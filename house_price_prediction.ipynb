import pandas as pd
from sklearn.model_selection import train_test_split
from sklearn.ensemble import GradientBoostingRegressor
from sklearn.metrics import mean_absolute_error
from sklearn.preprocessing import StandardScaler

# Load data
df = pd.read_csv("data/train.csv")
df = df.select_dtypes(include=['float64', 'int64']).dropna(axis=1)

X = df.drop("SalePrice", axis=1)
y = df["SalePrice"]

# Scaling
scaler = StandardScaler()
X_scaled = scaler.fit_transform(X)

# Split
X_train, X_test, y_train, y_test = train_test_split(X_scaled, y, test_size=0.2)

# Model
model = GradientBoostingRegressor(n_estimators=200)
model.fit(X_train, y_train)

# Evaluation
y_pred = model.predict(X_test)
print("MAE:", mean_absolute_error(y_test, y_pred))